{
 "cells": [
  {
   "cell_type": "markdown",
   "metadata": {},
   "source": [
    "# Задание 1\n",
    "\n",
    "(**NB.** для запуска примеров кода нужен Python версии не ниже **3.10**, допускается использование других версий, в этом случае нужно самостоятельно избавиться от конструкции `match`).\n",
    "\n",
    "Есть следующий код для [автоматического дифференцирования](https://en.wikipedia.org/wiki/Automatic_differentiation), в котором используются особенности системы типов языка `Python`: "
   ]
  },
  {
   "cell_type": "code",
   "execution_count": 1,
   "metadata": {},
   "outputs": [],
   "source": [
    "from dataclasses import dataclass\n",
    "from typing import Union, Callable\n",
    "from numbers import Number\n",
    "\n",
    "@dataclass\n",
    "class Dual:\n",
    "    value: float\n",
    "    d: float\n",
    "\n",
    "    def __add__(self, other: Union[\"Dual\", Number]) -> \"Dual\":\n",
    "         match other:\n",
    "            case Dual(o_value, o_d):\n",
    "                return Dual(self.value + o_value, self.d + o_d)\n",
    "            case Number():\n",
    "                return Dual(float(other) + self.value, self.d)\n",
    "\n",
    "    def __mul__(self, other: Union[\"Dual\", Number]) -> \"Dual\":\n",
    "         match other:\n",
    "            case Dual(o_value, o_d):\n",
    "                return Dual(self.value * o_value, self.value * o_d + self.d * o_value)\n",
    "            case Number():\n",
    "                return Dual(float(other) * self.value, float(other) * self.d)    \n",
    "\n",
    "    __rmul__ = __mul__  # https://docs.python.org/3/reference/datamodel.html#object.__mul__\n",
    "    __radd__ = __add__  # https://docs.python.org/3/reference/datamodel.html#object.__radd__\n",
    " \n",
    "\n",
    "def diff(func: Callable[[float], float]) -> Callable[[float], float]:\n",
    "    return lambda x: func(Dual(x, 1.0)).d "
   ]
  },
  {
   "cell_type": "markdown",
   "metadata": {},
   "source": [
    "Поддерживаются две операции - сложение и умножение. Применить можно так:"
   ]
  },
  {
   "cell_type": "code",
   "execution_count": 2,
   "metadata": {},
   "outputs": [
    {
     "data": {
      "text/plain": [
       "22.0"
      ]
     },
     "execution_count": 2,
     "metadata": {},
     "output_type": "execute_result"
    }
   ],
   "source": [
    "# Функция, которую будем дифференцировать\n",
    "def f(x: float) -> float:\n",
    "    return 5 * x * x + 2 * x + 2\n",
    "\n",
    "f_diff = diff(f)\n",
    "\n",
    "# значение производной в точке x = 2\n",
    "f_diff(2)"
   ]
  },
  {
   "cell_type": "markdown",
   "metadata": {},
   "source": [
    "## Задание 1.1 (5 баллов)\n",
    "\n",
    "Какие недостатки вы видите в данной реализации? Реализуйте поддержку (полностью самостоятельно или модифицируя приведенный код):\n",
    "- [унарных операций](https://docs.python.org/3/reference/datamodel.html#object.__neg__) \n",
    "- деления\n",
    "- возведения в степень\n",
    "\n",
    "Каким образом можно проверить корректность решения?  Реализуйте достаточный, по вашему мнению, набор тестов."
   ]
  },
  {
   "cell_type": "code",
   "execution_count": 3,
   "metadata": {},
   "outputs": [],
   "source": [
    "import math\n",
    "from dataclasses import dataclass\n",
    "from typing import Union, Callable\n",
    "from numbers import Number\n",
    "\n",
    "@dataclass\n",
    "class Dual:\n",
    "    value: float\n",
    "    d: float\n",
    "        \n",
    "    def __add__(self, other: Union[\"Dual\", Number]) -> \"Dual\":\n",
    "        match other:\n",
    "            case Dual(o_value, o_d):\n",
    "                return Dual(self.value + o_value, self.d + o_d)\n",
    "            case Number():\n",
    "                return Dual(float(other) + self.value, self.d)\n",
    "\n",
    "    def __mul__(self, other: Union[\"Dual\", Number]) -> \"Dual\":\n",
    "         match other:\n",
    "            case Dual(o_value, o_d):\n",
    "                return Dual(self.value * o_value, self.value * o_d + self.d * o_value)\n",
    "            case Number():\n",
    "                return Dual(float(other) * self.value, float(other) * self.d)    \n",
    "\n",
    "    __rmul__ = __mul__  \n",
    "    __radd__ = __add__  \n",
    "       \n",
    "    def __neg__(self) -> \"Dual\":\n",
    "        return Dual(-1 * self.value, -1 * self.d)\n",
    "\n",
    "    def __sub__(self, other: Union[\"Dual\", Number]) -> \"Dual\":\n",
    "        match other:\n",
    "            case Dual(o_value, o_d):\n",
    "                return Dual(self.value - o_value, self.d - o_d)\n",
    "            case Number():\n",
    "                return Dual(self.value - float(other), self.d)\n",
    "\n",
    "    def __rsub__(self, other: Union[\"Dual\", Number]) -> \"Dual\":\n",
    "        match other:\n",
    "            case Dual(o_value, o_d):\n",
    "                return Dual(o_value - self.value, o_d - self.d)\n",
    "            case Number():\n",
    "                return Dual(float(other) - self.value, -self.d)\n",
    "        \n",
    "    def __truediv__(self, other: Union[\"Dual\", Number]) -> \"Dual\":\n",
    "        match other:\n",
    "            case Dual(o_value, o_d):\n",
    "                return Dual(value=self.value/o_value, d=(self.d*o_value - o_d*self.value)/(o_value**2))\n",
    "            case Number():\n",
    "                return Dual(self.value / float(other), self.d / float(other))\n",
    "        \n",
    "    def __pow__(self, other: Union[\"Dual\", Number]) -> \"Dual\":\n",
    "        match other:\n",
    "            case Dual(o_value, o_d):\n",
    "                return Dual(value=self.value ** o_value,d=(self.value ** o_value)*(o_d * math.log(self.value) + self.d * o_value / self.value))\n",
    "            case Number():\n",
    "                return Dual(self.value ** float(other), float(other) * (self.value ** (other - 1.)) * self.d)\n",
    "     \n",
    "    def __rpow__(self, other: Union[\"Dual\", Number]) -> \"Dual\":\n",
    "        match other:\n",
    "            case Dual(o_value, o_d):\n",
    "                return Dual(value=other.value ** self.value,d=(o_value ** self.value)*(self.d * math.log(o_value) + o_d * self.value / o_alue))\n",
    "            case Number():\n",
    "                return Dual(float(other) ** self.value, math.log(float(other)) * (float(other) ** self.value) * self.d)\n",
    "    \n",
    "def diff(func: Callable[[float], float]) -> Callable[[float], float]:\n",
    "    return lambda x: func(Dual(x, 1.0)).d\n"
   ]
  },
  {
   "cell_type": "code",
   "execution_count": 4,
   "metadata": {},
   "outputs": [
    {
     "name": "stdout",
     "output_type": "stream",
     "text": [
      "2.0\n",
      "83.0\n",
      "-21.50298489750842\n"
     ]
    }
   ],
   "source": [
    "# test\n",
    "funcs1 = [\n",
    "    lambda x: 2 * x + 1,\n",
    "    lambda x: x ** 5 + 3 * x + 1,\n",
    "    lambda x: (5 * x * x + x ** 10 + 10 ** (x)) / (2 * x - 50 * x * x)\n",
    "]\n",
    "for func in funcs1:\n",
    "    print(diff(func)(2))"
   ]
  },
  {
   "cell_type": "markdown",
   "metadata": {},
   "source": [
    "## Задание 1.2 (7 баллов)\n",
    "Придумайте способ и реализуйте поддержку функций:\n",
    "- `exp()`\n",
    "- `cos()`\n",
    "- `sin()`\n",
    "- `log()`\n",
    "\n",
    "Добавьте соответствующие тесты"
   ]
  },
  {
   "cell_type": "code",
   "execution_count": 5,
   "metadata": {},
   "outputs": [],
   "source": [
    "def exp(x: Union[\"Dual\", Number]) -> \"Dual\":\n",
    "    match x:\n",
    "        case Dual(x.value, x.d):\n",
    "            return Dual(math.exp(x.value), math.exp(x.value) * x.d)\n",
    "        case Number():\n",
    "            return Dual(math.exp(x))    \n",
    "\n",
    "def cos(x: Union[\"Dual\", Number]) -> \"Dual\":\n",
    "    match x:\n",
    "        case Dual(x.value, x.d):\n",
    "            return Dual(math.cos(x.value), -math.sin(x.value) * x.d)        \n",
    "        case Number():\n",
    "            return Dual(math.cos(x))\n",
    "\n",
    "def sin(x: Union[\"Dual\", Number]) -> \"Dual\":\n",
    "    match x:\n",
    "        case Dual(x.value, x.d):\n",
    "            return Dual(math.sin(x.value), math.cos(x.value) * x.d)\n",
    "        case Number():\n",
    "            return Dual(math.sin(x))\n",
    "    \n",
    "\n",
    "def log(x: Union[\"Dual\", Number], base: float = math.e) -> \"Dual\":\n",
    "    match x:\n",
    "        case Dual(x.value, x.d):\n",
    "            return Dual(math.log(x.value, base), x.d / (x.value * math.log(base)))\n",
    "        case Number():\n",
    "            return Dual(math.log(x, base), 0)"
   ]
  },
  {
   "cell_type": "code",
   "execution_count": 6,
   "metadata": {},
   "outputs": [
    {
     "name": "stdout",
     "output_type": "stream",
     "text": [
      "109.19630006628847\n",
      "1.2313797676799603\n",
      "0.009197858981707774\n"
     ]
    }
   ],
   "source": [
    "# test\n",
    "funcs2 = [\n",
    "    lambda x: exp(2 * x),\n",
    "    lambda x: log(5 * (2 * x ** x + 3)),\n",
    "    lambda x: (sin(x) + 2 * cos(x) ** 2) / (exp(x) + 3 * x)\n",
    "]\n",
    "for func in funcs2:\n",
    "    print(diff(func)(2))"
   ]
  },
  {
   "cell_type": "markdown",
   "metadata": {},
   "source": [
    "## Задание 1.3 (3 балла)\n",
    "\n",
    "Воспользуйтесь методами **численного** дифференцирования для \"проверки\" работы кода на нескольких примерах. Например,  библиотеке `scipy` есть функция `derivative`. Или реализуйте какой-нибудь метод численного дифференцирования самостоятельно (**+5 баллов**)"
   ]
  },
  {
   "cell_type": "code",
   "execution_count": 7,
   "metadata": {},
   "outputs": [
    {
     "data": {
      "text/plain": [
       "22.0"
      ]
     },
     "execution_count": 7,
     "metadata": {},
     "output_type": "execute_result"
    }
   ],
   "source": [
    "from scipy.misc import derivative\n",
    "\n",
    "def f(x: float) -> float:\n",
    "    return 5 * x * x + 2 * x + 2\n",
    "\n",
    "derivative(f, 2.)"
   ]
  },
  {
   "cell_type": "code",
   "execution_count": 8,
   "metadata": {},
   "outputs": [],
   "source": [
    "def derivative_1(func: Callable[[Dual], Dual], x: float, eps: float = 1e-4) -> float:\n",
    "    return (func(Dual(x + eps,1.)).value - func(Dual(x - eps,1.)).value) / (2 * eps)"
   ]
  },
  {
   "cell_type": "code",
   "execution_count": 9,
   "metadata": {},
   "outputs": [
    {
     "name": "stdout",
     "output_type": "stream",
     "text": [
      "7.280989962055173e-07\n",
      "1.9429724495978462e-10\n",
      "1.0514090709179413e-09\n"
     ]
    }
   ],
   "source": [
    "# test\n",
    "funcs3 = [\n",
    "    lambda x: exp(2 * x),\n",
    "    lambda x: log(5 * (2 * x ** x + 3)),\n",
    "    lambda x: (sin(x) + 2 * cos(x) ** 2) / (exp(x) + 3 * x)\n",
    "]\n",
    "for func in funcs3:\n",
    "    print(abs(derivative_1(func, 2) - diff(func)(2)))"
   ]
  },
  {
   "cell_type": "markdown",
   "metadata": {},
   "source": [
    "## Задание 1.4 (10 баллов)\n",
    "\n",
    "Необходимо разработать систему автоматического тестирования алгоритма дифференцирования в следующем виде:\n",
    "- реализовать механизм генерации \"случайных функций\" (например, что-то вроде такого: $f(x) = x + 5 * x - \\cos(20 * \\log(12 - 20 * x * x )) - 20 * x$ )\n",
    "- сгенерировать достаточно большое число функций и сравнить результаты символьного и численного дифференцирования в случайных точках "
   ]
  },
  {
   "cell_type": "markdown",
   "metadata": {},
   "source": [
    "Генерацию случайных функций можно осуществить, например, двумя путями. \n",
    "1. Генерировать функцию в текстовом виде, зачем использовать встроенную функцию [eval](https://docs.python.org/3/library/functions.html#eval)\n",
    "\n",
    "```python\n",
    "func = eval(\"lambda x: 2 * x + 5\")\n",
    "assert func(42) == 89 \n",
    "```\n",
    "\n",
    "2. Использовать стандартный модуль [ast](https://docs.python.org/3/library/ast.html), который позволяет во время выполнения программы манипулировать [Абстрактным Синтаксическим Деревом](https://ru.wikipedia.org/wiki/%D0%90%D0%B1%D1%81%D1%82%D1%80%D0%B0%D0%BA%D1%82%D0%BD%D0%BE%D0%B5_%D1%81%D0%B8%D0%BD%D1%82%D0%B0%D0%BA%D1%81%D0%B8%D1%87%D0%B5%D1%81%D0%BA%D0%BE%D0%B5_%D0%B4%D0%B5%D1%80%D0%B5%D0%B2%D0%BE).\n",
    "Например, выражение \n",
    "\n",
    "```python\n",
    "func = lambda x: 2 * x + 5\n",
    "```\n",
    "\n",
    "Можно запрограммировать с помощью кода:\n",
    "\n",
    "```python\n",
    "\n",
    "expr = ast.Expression(\n",
    "    body=ast.Lambda(\n",
    "        args=ast.arguments(\n",
    "            args=[\n",
    "                ast.arg(arg='x')\n",
    "            ],\n",
    "            posonlyargs=[],\n",
    "            kwonlyargs=[],\n",
    "            kw_defaults=[],\n",
    "            defaults=[]\n",
    "        ),\n",
    "        body=ast.BinOp(\n",
    "            left=ast.BinOp(\n",
    "                left=ast.Constant(value=2),\n",
    "                op=ast.Mult(),\n",
    "                right=ast.Name(id='x', ctx=ast.Load())\n",
    "            ),\n",
    "            op=ast.Add(),\n",
    "            right=ast.Constant(value=5)\n",
    "        )\n",
    "    )\n",
    ")\n",
    "\n",
    "ast.fix_missing_locations(expr)\n",
    "\n",
    "func = eval(compile(expr, filename=\"\", mode=\"eval\"))\n",
    "\n",
    "assert func(42) == 89\n",
    "```\n",
    "\n",
    "При реализации нужно учитывать области допустимых значений функций."
   ]
  },
  {
   "cell_type": "code",
   "execution_count": 10,
   "metadata": {},
   "outputs": [],
   "source": [
    "import math\n",
    "import random\n",
    "from itertools import repeat\n",
    "from typing import Generic, List, Dict, Tuple, TypeVar, Union, Callable, Protocol\n",
    "\n",
    "class RandomFunc:\n",
    "    Functions: Dict[Callable[..., str], int] = {\n",
    "        lambda x: f'cos({x})': 1,\n",
    "        lambda x: f'sin({x})': 1,\n",
    "        lambda x: f'exp({x})': 1,\n",
    "        lambda x, y: f'({x} + {y})': 2,\n",
    "        lambda x, y: f'({x} - {y})': 2,\n",
    "        lambda x, y: f'({x} * {y})': 2\n",
    "    }\n",
    "\n",
    "\n",
    "    def __init__(self, var: str, cmin: int = 1, cmax: int = 10) -> None:\n",
    "        self.constant = lambda: str(random.randint(cmin, cmax))\n",
    "        self.variable = lambda: var\n",
    "\n",
    "    def randleaf(self) -> str:\n",
    "        if random.random() <= 0.5:\n",
    "            return self.variable()\n",
    "        return self.constant()\n",
    "\n",
    "    \n",
    "    def randfun(self) -> Tuple[Callable[..., str], int]:\n",
    "        return random.choice(list(self.Functions.items()))\n",
    "\n",
    "    def generate(self, maxlevel: int) -> str:\n",
    "        if maxlevel == 0:\n",
    "            return self.randleaf()\n",
    "        func, nparam = self.randfun()\n",
    "        params = [self.generate(maxlevel - 1) for _ in range(nparam)]\n",
    "        return func(*params)\n",
    "\n",
    "    def __call__(self, maxlevel: int) -> str:\n",
    "        return self.generate(maxlevel)\n"
   ]
  },
  {
   "cell_type": "code",
   "execution_count": 11,
   "metadata": {
    "scrolled": true
   },
   "outputs": [
    {
     "name": "stdout",
     "output_type": "stream",
     "text": [
      "(cos((x * 3)) * exp((x * x))), [2], 1.6853811644068628e-06\n",
      "(cos((2 + x)) + sin((x * x))), [2], 9.872791717491225e-08\n",
      "exp(((2 - x) - exp(x))), [2], 4.241613015681933e-10\n",
      "cos((sin(x) + (x + 5))), [2], 5.06092612262421e-10\n",
      "cos(sin((x + x))), [2], 2.292541056991837e-08\n"
     ]
    }
   ],
   "source": [
    "def test(n: int, level: int = 3):\n",
    "    generator = RandomFunc('x')\n",
    "    for _ in range(n):\n",
    "        expr = generator(maxlevel=level)\n",
    "        func = eval(f'lambda x: {expr}')\n",
    "        x = 2\n",
    "        try:\n",
    "            ratio = abs(derivative_1(func, x) - func(Dual(x, 1)).d)\n",
    "        except:\n",
    "            continue\n",
    "        print(f'{expr}, [{x}], {ratio}')\n",
    "\n",
    "test(n=10)"
   ]
  },
  {
   "cell_type": "markdown",
   "metadata": {},
   "source": [
    "## Задание 1.5 (7 баллов)\n",
    "\n",
    "Реализуйте поддержку функций нескольких аргументов. Например\n",
    "\n",
    "```python\n",
    "def f(x: float, y: float, z: float) -> float:\n",
    "    return x * y + z - 5 * y  \n",
    "\n",
    "\n",
    "f_diff = diff(f)\n",
    "\n",
    "f_diff(10, 10, 10) # = [10, 5, 1]\n",
    "```"
   ]
  },
  {
   "cell_type": "code",
   "execution_count": 12,
   "metadata": {},
   "outputs": [],
   "source": [
    "T = TypeVar('T')\n",
    "\n",
    "class NCallable(Protocol, Generic[T]):\n",
    "    def __call__(self, *args: T) -> T:\n",
    "        pass\n",
    "\n",
    "def ndiff(func: NCallable[Dual]) -> Callable[..., List[float]]:\n",
    "    def identity(n: int) -> List[List[int]]:\n",
    "        return [[(0, 1)[i == j] for i in range(n)] for j in range(n)]\n",
    "\n",
    "    def wrap(*vars_: float) -> List[float]:\n",
    "        nvalue, nd = repeat(vars_, len(vars_)), identity(len(vars_))\n",
    "        result: List[float] = []\n",
    "        for values, ds in zip(nvalue, nd):\n",
    "            params: List[Dual] = []\n",
    "            for value, d in zip(values, ds):\n",
    "                params.append(Dual(value, d))\n",
    "            result.append(func(*params).d)\n",
    "        return result\n",
    "\n",
    "    return wrap"
   ]
  },
  {
   "cell_type": "code",
   "execution_count": 15,
   "metadata": {},
   "outputs": [],
   "source": [
    "def nfunc(x, y, z):\n",
    "    return x * y + z - 5 * y\n",
    "assert ndiff(nfunc)(10, 10, 10) == [10., 5., 1.]"
   ]
  }
 ],
 "metadata": {
  "kernelspec": {
   "display_name": "python3.10.8",
   "language": "python",
   "name": "python3.10.8"
  },
  "language_info": {
   "codemirror_mode": {
    "name": "ipython",
    "version": 3
   },
   "file_extension": ".py",
   "mimetype": "text/x-python",
   "name": "python",
   "nbconvert_exporter": "python",
   "pygments_lexer": "ipython3",
   "version": "3.10.8"
  },
  "vscode": {
   "interpreter": {
    "hash": "916dbcbb3f70747c44a77c7bcd40155683ae19c65e1c03b4aa3499c5328201f1"
   }
  }
 },
 "nbformat": 4,
 "nbformat_minor": 2
}
