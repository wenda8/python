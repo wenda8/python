{
 "cells": [
  {
   "cell_type": "markdown",
   "metadata": {},
   "source": [
    "# Задание 2.\n",
    "\n",
    "**NB. Все упражнения ниже нужно делать без использования циклов Python в явном (`while`, `for`) и неявном виде (list comprehension, `map`, `reduce` и пр)**\n",
    "\n",
    "Задания по манипуляциям с массивами чаще всего решаются в одно/два выражения. "
   ]
  },
  {
   "cell_type": "code",
   "execution_count": 1,
   "metadata": {},
   "outputs": [
    {
     "data": {
      "text/plain": [
       "array([[28,  6, 86, ..., 63, 81, 23],\n",
       "       [82, 18, 50, ..., 89, 38, 49],\n",
       "       [55, 28, 33, ..., 80, 29, 72],\n",
       "       ...,\n",
       "       [17, 32, 21, ..., 88, 50, 34],\n",
       "       [90, 32, 93, ..., 31, 66, 15],\n",
       "       [33, 92,  4, ..., 68, 35,  5]])"
      ]
     },
     "execution_count": 1,
     "metadata": {},
     "output_type": "execute_result"
    }
   ],
   "source": [
    "%matplotlib inline\n",
    "\n",
    "import numpy as np\n",
    "import matplotlib.pyplot as plt\n",
    "import seaborn as sns\n",
    "sns.set_theme()\n",
    "\n",
    "A = np.random.randint(0, 100, size=(200, 50))\n",
    "A"
   ]
  },
  {
   "cell_type": "markdown",
   "metadata": {},
   "source": [
    "# Задание 2.1 (2 балла)\n",
    "\n",
    "Сгенерируйте новый массив, в котором столбцы массива `A` переставлены в случайном порядке"
   ]
  },
  {
   "cell_type": "code",
   "execution_count": 2,
   "metadata": {},
   "outputs": [
    {
     "data": {
      "text/plain": [
       "(array([[34,  2, 35, ..., 63, 57,  8],\n",
       "        [76, 17, 66, ..., 89, 85, 59],\n",
       "        [72, 47, 86, ..., 80, 44, 75],\n",
       "        ...,\n",
       "        [77,  2, 30, ..., 88,  5, 79],\n",
       "        [20, 96, 60, ..., 31, 48, 28],\n",
       "        [55, 67, 45, ..., 68, 51, 51]]),\n",
       " (200, 50))"
      ]
     },
     "execution_count": 2,
     "metadata": {},
     "output_type": "execute_result"
    }
   ],
   "source": [
    "A1 = A.copy()\n",
    "np.random.shuffle(A1.T)\n",
    "A1,A1.shape"
   ]
  },
  {
   "cell_type": "markdown",
   "metadata": {},
   "source": [
    "# Задание 2.2 (5 баллов)\n",
    "\n",
    "Сгенерируйте новый массив, который содержит только те строки массива `A`, в которых: \n",
    "- сумма элементов по четным столбцам (индексы $0, 2, \\ldots$) больше среднего значения (по всему массиву) суммы элементов по нечетным столбцам (индексы $1, 3, \\ldots$) "
   ]
  },
  {
   "cell_type": "code",
   "execution_count": 3,
   "metadata": {},
   "outputs": [
    {
     "data": {
      "text/plain": [
       "array([[82, 18, 50, ..., 89, 38, 49],\n",
       "       [55, 28, 33, ..., 80, 29, 72],\n",
       "       [65, 90, 84, ..., 79, 25, 81],\n",
       "       ...,\n",
       "       [57,  8, 49, ..., 27, 27, 18],\n",
       "       [90, 32, 93, ..., 31, 66, 15],\n",
       "       [33, 92,  4, ..., 68, 35,  5]])"
      ]
     },
     "execution_count": 3,
     "metadata": {},
     "output_type": "execute_result"
    }
   ],
   "source": [
    "A[A[:,0::2].sum(axis = 1) > A[:,1::2].sum(axis = 1).mean()]"
   ]
  },
  {
   "cell_type": "markdown",
   "metadata": {},
   "source": [
    "# Задача 2.3 (3 балла)\n",
    "\n",
    "Найдите индекс строки массива `A`, в которой разница между максимальным и минимальным элементом максимальна"
   ]
  },
  {
   "cell_type": "code",
   "execution_count": 4,
   "metadata": {},
   "outputs": [
    {
     "data": {
      "text/plain": [
       "1"
      ]
     },
     "execution_count": 4,
     "metadata": {},
     "output_type": "execute_result"
    }
   ],
   "source": [
    "np.argmax(np.max(A, axis = 1) - np.min(A, axis = 1))"
   ]
  },
  {
   "cell_type": "markdown",
   "metadata": {},
   "source": [
    "# Задание 2.4 (7 баллов)\n",
    "\n",
    "Сгенерируйте массив той же размерности, что и `A`, но в котором каждый элемент заменен на его порядковый номер (начиная с 1) в отсортированном по возрастанию массиве из элементов `A`\n",
    "\n",
    "Если `A` выглядит так:\n",
    "$$\n",
    "\\begin{pmatrix}\n",
    "12 & 14\\\\\n",
    "1 & 2\n",
    "\\end{pmatrix}\n",
    "$$\n",
    "то результат должен быть\n",
    "$$\n",
    "\\begin{pmatrix}\n",
    "3 & 4\\\\\n",
    "1 & 2\n",
    "\\end{pmatrix}\n",
    "$$\n",
    "\n",
    "*Tip: рассмотрите возможность неоднократного применения [argsort()](https://numpy.org/doc/stable/reference/generated/numpy.ndarray.argsort.html)*"
   ]
  },
  {
   "cell_type": "code",
   "execution_count": 5,
   "metadata": {},
   "outputs": [
    {
     "data": {
      "text/plain": [
       "array([[2887,  719, 8674, ..., 6306, 8145, 2348],\n",
       "       [8291, 1854, 5042, ..., 8965, 3897, 5001],\n",
       "       [5595, 2892, 3316, ..., 8090, 2973, 7233],\n",
       "       ...,\n",
       "       [1705, 3287, 2153, ..., 8814, 5105, 3463],\n",
       "       [9101, 3225, 9348, ..., 3204, 6604, 1580],\n",
       "       [3345, 9241,  508, ..., 6820, 3573,  608]], dtype=int64)"
      ]
     },
     "execution_count": 5,
     "metadata": {},
     "output_type": "execute_result"
    }
   ],
   "source": [
    "np.argsort(np.argsort(np.ravel(A))).reshape(A.shape) + 1"
   ]
  },
  {
   "cell_type": "markdown",
   "metadata": {},
   "source": [
    "# Задание 2.5 (2 балла)\n",
    "\n",
    "Примените $\\min-\\max$ - нормализацию к строкам массива `A`. То есть нужно получить новый массивы, в каждой строке которого максимальный элементы равен $1$, минимальный - $0$. "
   ]
  },
  {
   "cell_type": "code",
   "execution_count": 6,
   "metadata": {},
   "outputs": [
    {
     "data": {
      "text/plain": [
       "array([[0.27083333, 0.04166667, 0.875     , ..., 0.63541667, 0.82291667,\n",
       "        0.21875   ],\n",
       "       [0.82828283, 0.18181818, 0.50505051, ..., 0.8989899 , 0.38383838,\n",
       "        0.49494949],\n",
       "       [0.55670103, 0.27835052, 0.32989691, ..., 0.81443299, 0.28865979,\n",
       "        0.73195876],\n",
       "       ...,\n",
       "       [0.15789474, 0.31578947, 0.2       , ..., 0.90526316, 0.50526316,\n",
       "        0.33684211],\n",
       "       [0.90909091, 0.32323232, 0.93939394, ..., 0.31313131, 0.66666667,\n",
       "        0.15151515],\n",
       "       [0.33333333, 0.92929293, 0.04040404, ..., 0.68686869, 0.35353535,\n",
       "        0.05050505]])"
      ]
     },
     "execution_count": 6,
     "metadata": {},
     "output_type": "execute_result"
    }
   ],
   "source": [
    "(A-np.min(A, axis = 1).reshape(200,1))/((np.max(A, axis = 1)-np.min(A, axis = 1))).reshape(200,1)"
   ]
  },
  {
   "cell_type": "markdown",
   "metadata": {},
   "source": [
    "# Задание 2.6 (2 балла)\n",
    "\n",
    "Сгенерируйте новый трехмерный массив, размерности $10 \\times 200 \\times 50$. Подмассивы по нулевой оси должны состоять из элементов `A`, умноженных на $1 - 10$ соответственно"
   ]
  },
  {
   "cell_type": "code",
   "execution_count": 7,
   "metadata": {},
   "outputs": [
    {
     "data": {
      "text/plain": [
       "array([[[ 28,   6,  86, ...,  63,  81,  23],\n",
       "        [ 82,  18,  50, ...,  89,  38,  49],\n",
       "        [ 55,  28,  33, ...,  80,  29,  72],\n",
       "        ...,\n",
       "        [ 17,  32,  21, ...,  88,  50,  34],\n",
       "        [ 90,  32,  93, ...,  31,  66,  15],\n",
       "        [ 33,  92,   4, ...,  68,  35,   5]],\n",
       "\n",
       "       [[ 56,  12, 172, ..., 126, 162,  46],\n",
       "        [164,  36, 100, ..., 178,  76,  98],\n",
       "        [110,  56,  66, ..., 160,  58, 144],\n",
       "        ...,\n",
       "        [ 34,  64,  42, ..., 176, 100,  68],\n",
       "        [180,  64, 186, ...,  62, 132,  30],\n",
       "        [ 66, 184,   8, ..., 136,  70,  10]],\n",
       "\n",
       "       [[ 84,  18, 258, ..., 189, 243,  69],\n",
       "        [246,  54, 150, ..., 267, 114, 147],\n",
       "        [165,  84,  99, ..., 240,  87, 216],\n",
       "        ...,\n",
       "        [ 51,  96,  63, ..., 264, 150, 102],\n",
       "        [270,  96, 279, ...,  93, 198,  45],\n",
       "        [ 99, 276,  12, ..., 204, 105,  15]],\n",
       "\n",
       "       ...,\n",
       "\n",
       "       [[224,  48, 688, ..., 504, 648, 184],\n",
       "        [656, 144, 400, ..., 712, 304, 392],\n",
       "        [440, 224, 264, ..., 640, 232, 576],\n",
       "        ...,\n",
       "        [136, 256, 168, ..., 704, 400, 272],\n",
       "        [720, 256, 744, ..., 248, 528, 120],\n",
       "        [264, 736,  32, ..., 544, 280,  40]],\n",
       "\n",
       "       [[252,  54, 774, ..., 567, 729, 207],\n",
       "        [738, 162, 450, ..., 801, 342, 441],\n",
       "        [495, 252, 297, ..., 720, 261, 648],\n",
       "        ...,\n",
       "        [153, 288, 189, ..., 792, 450, 306],\n",
       "        [810, 288, 837, ..., 279, 594, 135],\n",
       "        [297, 828,  36, ..., 612, 315,  45]],\n",
       "\n",
       "       [[280,  60, 860, ..., 630, 810, 230],\n",
       "        [820, 180, 500, ..., 890, 380, 490],\n",
       "        [550, 280, 330, ..., 800, 290, 720],\n",
       "        ...,\n",
       "        [170, 320, 210, ..., 880, 500, 340],\n",
       "        [900, 320, 930, ..., 310, 660, 150],\n",
       "        [330, 920,  40, ..., 680, 350,  50]]])"
      ]
     },
     "execution_count": 7,
     "metadata": {},
     "output_type": "execute_result"
    }
   ],
   "source": [
    "np.tile(A,(10,1)).reshape(10,*A.shape)*np.arange(1,11).reshape(10,1,1)"
   ]
  },
  {
   "cell_type": "markdown",
   "metadata": {},
   "source": [
    "# Задание 2.7 (2 балла)\n",
    "\n",
    "Создайте новый массив, такой же размерности, как и `A`, в котором сначала сгруппированы четные столбцы `A`, потом  нечетные. Используйте [np.concat()](https://numpy.org/doc/stable/reference/generated/numpy.concatenate.html) "
   ]
  },
  {
   "cell_type": "code",
   "execution_count": 8,
   "metadata": {},
   "outputs": [
    {
     "data": {
      "text/plain": [
       "array([[28, 86, 53, ..., 48, 63, 23],\n",
       "       [82, 50, 54, ..., 86, 89, 49],\n",
       "       [55, 33, 71, ..., 71, 80, 72],\n",
       "       ...,\n",
       "       [17, 21, 39, ..., 87, 88, 34],\n",
       "       [90, 93, 82, ..., 33, 31, 15],\n",
       "       [33,  4, 53, ..., 15, 68,  5]])"
      ]
     },
     "execution_count": 8,
     "metadata": {},
     "output_type": "execute_result"
    }
   ],
   "source": [
    "np.concatenate((A[:,0::2], A[:,1::2]), axis = 1)"
   ]
  },
  {
   "cell_type": "markdown",
   "metadata": {},
   "source": [
    "# Задание 2.8 (2 балла)\n",
    "\n",
    "Посчитайте количество строк массива `A`, в который все элементы больше 5. Используйте [np.all()](https://numpy.org/doc/stable/reference/generated/numpy.all.html) "
   ]
  },
  {
   "cell_type": "code",
   "execution_count": 9,
   "metadata": {},
   "outputs": [
    {
     "data": {
      "text/plain": [
       "13"
      ]
     },
     "execution_count": 9,
     "metadata": {},
     "output_type": "execute_result"
    }
   ],
   "source": [
    "np.all(A>5, axis = 1).sum()"
   ]
  },
  {
   "cell_type": "markdown",
   "metadata": {},
   "source": [
    "# Задание 2.9 (2 балла)\n",
    "\n",
    "Поделите массив `A` горизонтально на 10 частей и создайте новый массив размерности $20 \\times 50$, который является средним этих частей. Используйте [np.split()](https://numpy.org/doc/stable/reference/generated/numpy.split.html)"
   ]
  },
  {
   "cell_type": "code",
   "execution_count": 10,
   "metadata": {},
   "outputs": [
    {
     "data": {
      "text/plain": [
       "array([[35.2, 39.4, 50.4, 52.3, 50.4, 50. , 50.2, 54.7, 43.6, 56.2, 50. ,\n",
       "        40.6, 60.5, 48.1, 48.5, 33.2, 57.4, 48.6, 34. , 44.3, 42.4, 35.5,\n",
       "        46. , 27.7, 39.7, 64.7, 50.3, 56.6, 40.7, 41.8, 43.2, 49.5, 43.8,\n",
       "        55.7, 46.7, 52.8, 41.8, 57. , 31.3, 53.8, 49.8, 58.1, 25.1, 43.7,\n",
       "        46. , 54.2, 45. , 52. , 37.1, 56.8],\n",
       "       [50.1, 33.8, 39.3, 45.4, 55.7, 68.8, 40.6, 57. , 52.4, 49.4, 39.2,\n",
       "        52.7, 48.9, 52.5, 48.7, 39. , 37.1, 42.5, 51.3, 46.4, 41.4, 30.9,\n",
       "        40.7, 54.9, 56.5, 51.2, 55.2, 58.5, 60.1, 38.8, 53.1, 40.7, 49.3,\n",
       "        34. , 51.5, 40.9, 55.3, 39. , 36.2, 52.7, 39.2, 45.8, 57.6, 66.1,\n",
       "        53.8, 46.2, 61.2, 41.3, 44.6, 44.4],\n",
       "       [35.4, 37.9, 51.9, 42.3, 57.8, 40.1, 56. , 44.2, 54.7, 45.8, 69.2,\n",
       "        56. , 42.5, 58.5, 49.7, 49.7, 37.3, 51.9, 46.3, 38.9, 47.7, 33.5,\n",
       "        57.8, 34.4, 40.8, 49.9, 52.1, 55.6, 55.1, 46.5, 55.2, 57.3, 63.9,\n",
       "        34.7, 30. , 55.2, 60.3, 49.2, 49.2, 40.9, 60.4, 46.1, 39.5, 62.5,\n",
       "        62.1, 55.8, 51.7, 36.3, 51.2, 65. ],\n",
       "       [52.2, 42.4, 43.6, 55.6, 42.5, 54. , 57. , 58.7, 51.4, 65.7, 46.6,\n",
       "        44.4, 60.1, 41.6, 60. , 64.4, 41.7, 37.4, 51.6, 61.5, 44.9, 74.6,\n",
       "        58. , 41.2, 43.7, 29. , 54.4, 59.1, 60.2, 54.1, 51.8, 53.7, 38.2,\n",
       "        55.2, 44.4, 46.3, 49.9, 65.9, 43.4, 45.4, 34.4, 35.5, 28.9, 59.4,\n",
       "        42.7, 48.3, 54.6, 52.7, 30.7, 49.4],\n",
       "       [46. , 52.5, 54.3, 39.2, 47.3, 46.4, 40.4, 57.7, 57.2, 43.2, 54.6,\n",
       "        42.8, 37.9, 46.3, 42.2, 33.1, 55.7, 48.9, 53.6, 46.9, 44.9, 49.6,\n",
       "        35.4, 40. , 48.5, 39. , 48.1, 54.9, 58.8, 50. , 64.6, 58.7, 56.7,\n",
       "        64.9, 55.1, 63.8, 67.4, 39.8, 61.7, 42.9, 33.4, 66.2, 58.8, 44.5,\n",
       "        45.6, 53.2, 64.8, 49.8, 41.4, 61.4],\n",
       "       [57.4, 51.1, 73.9, 41.6, 45.4, 45.9, 52.4, 66.1, 62.7, 65.2, 57.8,\n",
       "        63.9, 48.7, 39.3, 52.8, 57.9, 34.2, 49.6, 51.8, 49.2, 47.1, 41.8,\n",
       "        59.7, 44. , 50.9, 59.4, 45.6, 56.1, 61.8, 55.7, 47.6, 44.8, 63.9,\n",
       "        64.6, 47. , 44.6, 41.7, 55.6, 42.3, 48.6, 56.6, 57.6, 52.5, 57.3,\n",
       "        57.7, 42.4, 40.2, 45.6, 54.5, 43.2],\n",
       "       [34.4, 40.6, 36.9, 38.8, 57.9, 41.7, 49. , 45.8, 30.4, 40.1, 37.8,\n",
       "        54.1, 27.2, 49.1, 44.9, 48.4, 57.6, 55. , 59.1, 49.4, 38.5, 53.9,\n",
       "        57.3, 51.5, 56.5, 54.8, 46.1, 57.4, 44.3, 44.2, 52. , 51.6, 41. ,\n",
       "        48.4, 57.8, 44.3, 49.1, 45.8, 53. , 57.9, 32. , 56.6, 51.6, 36.4,\n",
       "        59.2, 41.9, 50. , 35.8, 37. , 47.7],\n",
       "       [30.5, 38.8, 40.1, 60.7, 41.5, 67.4, 71.7, 51.2, 42.5, 46.4, 38.5,\n",
       "        42.4, 53.9, 56.2, 53.3, 50.8, 73.5, 52.2, 46.6, 52.8, 55.2, 32.4,\n",
       "        60.3, 56. , 54. , 32.5, 52.1, 60.1, 55.2, 45.7, 43.6, 54.9, 40.2,\n",
       "        62.6, 53.7, 41.5, 46.8, 55.2, 37.6, 57.5, 59.7, 43. , 50.4, 46.5,\n",
       "        42.7, 38.5, 37.3, 41.4, 47.4, 51.4],\n",
       "       [35.6, 54.1, 40.2, 44. , 41.3, 49.1, 39.1, 51.1, 43.8, 42.6, 40.3,\n",
       "        48.8, 48.5, 42. , 50. , 56.5, 52.5, 50.4, 46.6, 50.3, 67.9, 45.6,\n",
       "        53.8, 64.2, 63.2, 55.5, 45.6, 39.4, 35.8, 47. , 50.5, 41.8, 32.3,\n",
       "        57.8, 43.4, 41.1, 63.1, 47.9, 55.9, 41.6, 54.3, 44.2, 48.2, 22.1,\n",
       "        54.8, 47.2, 51. , 50.8, 35. , 41.3],\n",
       "       [40.1, 46.9, 62. , 61.9, 59.3, 55.4, 74.7, 57.5, 45. , 40.7, 46. ,\n",
       "        35.6, 54.4, 46.7, 44.7, 40.4, 39.6, 51.3, 43.9, 43.4, 54.6, 58.8,\n",
       "        44.7, 44.7, 58.2, 68.3, 55. , 57.8, 49.7, 54. , 40.1, 31.7, 44.4,\n",
       "        35.2, 72.6, 52.2, 57.5, 43.8, 67.7, 62. , 35.2, 49.2, 47.5, 47.7,\n",
       "        51.5, 47.2, 55.1, 46.5, 42.8, 47.9],\n",
       "       [52.2, 56.6, 43. , 50.4, 64.5, 62.9, 35. , 47.2, 53.4, 52.1, 46.3,\n",
       "        57.5, 43.9, 58.7, 40.7, 38.7, 55. , 60.7, 45.7, 53.5, 41.7, 64.5,\n",
       "        52.5, 49.1, 50.3, 48.4, 70.3, 42.2, 41.5, 31. , 42.3, 35.6, 49. ,\n",
       "        57.6, 35.1, 46.7, 50.8, 42.7, 52.6, 61.3, 64.9, 66.3, 46. , 49.7,\n",
       "        44.5, 52.3, 31.9, 49.1, 50.3, 38.8],\n",
       "       [41.1, 60.7, 45. , 60.3, 50.5, 31.3, 46.5, 69.7, 43.9, 55. , 45.2,\n",
       "        54.3, 41. , 55.5, 47.6, 45.4, 66.1, 50.8, 49.7, 30.6, 56.3, 29.6,\n",
       "        67.1, 55. , 52. , 68.6, 64.2, 54.8, 55.7, 31.6, 60.1, 40.3, 48.3,\n",
       "        42.6, 44.4, 53.3, 57.7, 48.1, 41.2, 51.4, 38.8, 43. , 46.1, 43.5,\n",
       "        45.5, 47.5, 51.4, 54.7, 49.3, 57.6],\n",
       "       [35.7, 52. , 30.3, 41.5, 50.1, 66.5, 44.6, 41.6, 42.9, 39.7, 38.3,\n",
       "        54.7, 58. , 57.9, 38. , 53.5, 32.8, 66.4, 55.3, 47.4, 37.5, 37.8,\n",
       "        56.3, 59.3, 49.7, 58.7, 48.6, 32.4, 57.2, 58.4, 58.2, 68.8, 52.5,\n",
       "        50.2, 59.2, 59.6, 49.9, 50.4, 46.9, 46. , 44.4, 47.5, 35.9, 38.1,\n",
       "        62.5, 43. , 45.6, 34.5, 50.2, 35.5],\n",
       "       [54.4, 51.1, 54.1, 33.6, 44.8, 56.1, 44.3, 40.9, 39.4, 55.5, 51.7,\n",
       "        47. , 59.1, 51.4, 62.5, 60.3, 57.1, 70.9, 58.9, 43.6, 63.5, 43.8,\n",
       "        55.6, 45.1, 66.8, 55.6, 55.5, 53.8, 44.5, 46.5, 54.2, 61.4, 45.4,\n",
       "        37.7, 55.9, 60.7, 56.1, 68.5, 35.6, 68.4, 42.5, 41.2, 42.5, 45.4,\n",
       "        49.4, 62. , 39.7, 53.9, 55.1, 46.1],\n",
       "       [68.3, 63.5, 33. , 49.1, 51. , 59. , 60.7, 38.4, 70.7, 51.6, 46.8,\n",
       "        43.4, 54.2, 42.2, 36.4, 35.8, 60.6, 49.6, 46.5, 39.3, 34.5, 57.9,\n",
       "        38.8, 45.6, 39.7, 65.1, 51.7, 47.6, 55.2, 59.1, 63.1, 48. , 66.9,\n",
       "        61.5, 51. , 54.9, 54.3, 64.9, 57.7, 59.9, 34.1, 33. , 52.7, 66. ,\n",
       "        22.2, 40. , 36.9, 41.8, 58.2, 62.6],\n",
       "       [53.2, 46.3, 39.5, 48.5, 44.4, 30.5, 62.5, 44.4, 27.9, 58.9, 42.3,\n",
       "        37.3, 37.1, 41.1, 62.2, 47.1, 61.1, 50.4, 43.8, 48.3, 41.1, 40.6,\n",
       "        40.8, 67.8, 44.4, 51.4, 53.3, 58.2, 43.8, 53.5, 57.9, 51.9, 48.2,\n",
       "        51.9, 42.7, 35.8, 44. , 54.9, 59.7, 56.9, 61.1, 56.1, 58.8, 40.2,\n",
       "        54. , 52.8, 48.9, 51.8, 53.6, 60.9],\n",
       "       [49.2, 54.3, 57.3, 59.5, 41.6, 54. , 60.9, 42.5, 68.7, 48.7, 43.1,\n",
       "        47.7, 28.7, 47.5, 58. , 43.2, 68. , 50.9, 58.1, 48.1, 49. , 45.3,\n",
       "        56.9, 39. , 46.4, 31.8, 51.3, 35.3, 45.6, 51.1, 34.5, 64.2, 57.8,\n",
       "        49.7, 63.8, 52. , 47.2, 56.9, 37.6, 63. , 48. , 49.7, 33.8, 69.9,\n",
       "        32.2, 50.7, 50.7, 45.7, 50.7, 40.2],\n",
       "       [57.1, 61.7, 46.2, 60.3, 39. , 42.1, 47.9, 59.1, 49.8, 42.4, 52.3,\n",
       "        48.2, 58.4, 46.6, 50.5, 52.1, 43.9, 62. , 52.5, 60.7, 46.7, 56.4,\n",
       "        43.3, 55.5, 35.4, 52.5, 38.6, 47.7, 52.2, 51.7, 47. , 45.4, 48.7,\n",
       "        63.7, 66.7, 45.8, 44.4, 49.4, 50.8, 45.6, 51.8, 60.2, 55.3, 43.5,\n",
       "        53.5, 55.1, 60.9, 40.7, 57.9, 51.6],\n",
       "       [74.3, 44.6, 63.4, 41.9, 66.2, 54.1, 35.6, 58. , 45.7, 44.7, 27.8,\n",
       "        58.3, 60.3, 44.8, 33.5, 50.4, 44.4, 64.8, 49. , 40.4, 43.5, 53.1,\n",
       "        55.5, 45.9, 57. , 58.6, 42.6, 43.8, 66.2, 77.2, 52.1, 65.7, 49.1,\n",
       "        39.4, 51.9, 48.2, 50.1, 44.8, 38.7, 48.2, 47. , 56.2, 56.7, 52.1,\n",
       "        46. , 59.3, 54.6, 46.9, 41.4, 45.1],\n",
       "       [39.9, 50. , 49.6, 44.4, 37. , 25.8, 59.1, 50.6, 57.3, 38.6, 60.4,\n",
       "        60.3, 51.8, 44.2, 63.2, 71.3, 44.8, 32. , 50.6, 60.1, 31.7, 32.3,\n",
       "        60.1, 48.1, 43.5, 55.8, 47.5, 58.1, 50. , 67.5, 55.7, 62.2, 49.4,\n",
       "        49.1, 43.1, 51.7, 52.1, 59.2, 37.1, 64.4, 53.6, 64. , 44.1, 56.2,\n",
       "        36.3, 35.1, 50.5, 35.8, 35.7, 49.4]])"
      ]
     },
     "execution_count": 10,
     "metadata": {},
     "output_type": "execute_result"
    }
   ],
   "source": [
    "np.array(np.split(A,10)).mean(axis = 0)"
   ]
  },
  {
   "cell_type": "markdown",
   "metadata": {},
   "source": [
    "# Задание 2.10 (4 балла)\n",
    "\n",
    "\"Разверните\" массив `A` в одномерный массив. Оставьте в нём только уникальные элементы в том же порядке, в котором они встречаются в массиве. Используйте [np.unique()](https://numpy.org/doc/stable/reference/generated/numpy.unique.html)"
   ]
  },
  {
   "cell_type": "code",
   "execution_count": 11,
   "metadata": {},
   "outputs": [
    {
     "data": {
      "text/plain": [
       "array([28,  6, 86, 64, 53, 47, 39, 98,  8, 38, 42, 85,  2, 36, 65, 90, 60,\n",
       "       22, 79, 27, 35, 32, 57, 31, 69, 62, 26, 48, 34, 41, 14, 58, 24, 61,\n",
       "       93, 63, 81, 23, 82, 18, 50, 80, 54, 96,  5, 70, 59, 30, 55, 56, 45,\n",
       "       84, 99, 74, 33, 66, 17, 21,  1,  4, 76,  0, 51, 89, 49, 71, 78, 75,\n",
       "       19, 46, 92, 88, 44, 72, 37, 12, 67, 29, 87, 97,  9,  7, 95, 52, 73,\n",
       "       13, 68, 16, 83, 40, 20, 91, 11,  3, 43, 25, 94, 15, 10, 77])"
      ]
     },
     "execution_count": 11,
     "metadata": {},
     "output_type": "execute_result"
    }
   ],
   "source": [
    "A.ravel()[np.sort(np.unique(A,return_index = True)[1])]"
   ]
  },
  {
   "cell_type": "markdown",
   "metadata": {},
   "source": [
    "# Задание 2.11 (3 балла)\n",
    "\n",
    "Создайте одномерный массив размерности $200$, в котором каждый элемент - евклидово расстояние между соответствующей строкой `A` и \"средней\" строкой `A`"
   ]
  },
  {
   "cell_type": "code",
   "execution_count": 12,
   "metadata": {},
   "outputs": [
    {
     "data": {
      "text/plain": [
       "array([[166.20426251],\n",
       "       [204.75538302],\n",
       "       [188.07949616],\n",
       "       [216.84904167],\n",
       "       [199.45931133],\n",
       "       [207.14006584],\n",
       "       [206.40328698],\n",
       "       [203.67880811],\n",
       "       [216.40572283],\n",
       "       [232.03393475],\n",
       "       [204.99640698],\n",
       "       [200.07057973],\n",
       "       [214.19569761],\n",
       "       [187.215616  ],\n",
       "       [212.32603909],\n",
       "       [201.18334145],\n",
       "       [209.45447447],\n",
       "       [199.6915293 ],\n",
       "       [204.71821334],\n",
       "       [224.14760065],\n",
       "       [202.67090782],\n",
       "       [188.60927038],\n",
       "       [190.25253448],\n",
       "       [209.61349402],\n",
       "       [192.60079666],\n",
       "       [190.28556665],\n",
       "       [209.33023402],\n",
       "       [213.840494  ],\n",
       "       [218.15039967],\n",
       "       [200.5492131 ],\n",
       "       [182.7098434 ],\n",
       "       [213.5715966 ],\n",
       "       [206.85204102],\n",
       "       [179.93825851],\n",
       "       [214.46693655],\n",
       "       [215.52818116],\n",
       "       [227.21471536],\n",
       "       [209.07749012],\n",
       "       [205.53959929],\n",
       "       [213.55935211],\n",
       "       [220.88620798],\n",
       "       [208.32020275],\n",
       "       [186.16840998],\n",
       "       [214.32190013],\n",
       "       [188.69392379],\n",
       "       [208.35905758],\n",
       "       [197.90653571],\n",
       "       [208.21994831],\n",
       "       [172.71414787],\n",
       "       [199.09587358],\n",
       "       [200.99454439],\n",
       "       [207.45536116],\n",
       "       [203.39426461],\n",
       "       [201.37685288],\n",
       "       [193.47107503],\n",
       "       [216.45730959],\n",
       "       [205.39789891],\n",
       "       [191.15495514],\n",
       "       [206.97559488],\n",
       "       [211.45348632],\n",
       "       [213.48814224],\n",
       "       [199.71964569],\n",
       "       [190.19615368],\n",
       "       [210.90783977],\n",
       "       [224.90692936],\n",
       "       [224.13783008],\n",
       "       [201.89489066],\n",
       "       [211.02702878],\n",
       "       [192.46076711],\n",
       "       [176.64961612],\n",
       "       [217.88071708],\n",
       "       [212.36032321],\n",
       "       [210.25184155],\n",
       "       [182.84831658],\n",
       "       [217.38794096],\n",
       "       [181.28973185],\n",
       "       [203.96918119],\n",
       "       [194.11995486],\n",
       "       [221.26099266],\n",
       "       [200.92306208],\n",
       "       [213.30639202],\n",
       "       [195.95871217],\n",
       "       [210.25495684],\n",
       "       [225.26559186],\n",
       "       [192.03454605],\n",
       "       [189.88045417],\n",
       "       [212.84402006],\n",
       "       [228.71280435],\n",
       "       [163.77358418],\n",
       "       [209.971443  ],\n",
       "       [187.80118976],\n",
       "       [229.04813222],\n",
       "       [192.52988567],\n",
       "       [183.1460807 ],\n",
       "       [177.23965943],\n",
       "       [197.77931357],\n",
       "       [203.57882227],\n",
       "       [211.26946508],\n",
       "       [213.04151444],\n",
       "       [208.79513135],\n",
       "       [189.01615506],\n",
       "       [194.34779874],\n",
       "       [201.91878782],\n",
       "       [172.86751249],\n",
       "       [219.88569047],\n",
       "       [215.44587922],\n",
       "       [210.1287864 ],\n",
       "       [185.08443175],\n",
       "       [190.21434456],\n",
       "       [225.49008154],\n",
       "       [214.08887611],\n",
       "       [199.51753526],\n",
       "       [212.49601614],\n",
       "       [211.07955106],\n",
       "       [195.65491784],\n",
       "       [182.43230765],\n",
       "       [199.17411196],\n",
       "       [191.93560606],\n",
       "       [191.70361727],\n",
       "       [204.7414635 ],\n",
       "       [215.80668867],\n",
       "       [209.20852486],\n",
       "       [207.70839385],\n",
       "       [206.30059834],\n",
       "       [208.65820587],\n",
       "       [183.12268258],\n",
       "       [202.26753787],\n",
       "       [212.30013395],\n",
       "       [222.72947015],\n",
       "       [188.1889393 ],\n",
       "       [184.3950023 ],\n",
       "       [192.60339269],\n",
       "       [228.98824615],\n",
       "       [213.75099269],\n",
       "       [199.30061935],\n",
       "       [210.17527656],\n",
       "       [201.6250155 ],\n",
       "       [224.56472758],\n",
       "       [189.89167142],\n",
       "       [209.73267956],\n",
       "       [199.45710535],\n",
       "       [194.34887927],\n",
       "       [209.65795209],\n",
       "       [216.25535109],\n",
       "       [182.16447753],\n",
       "       [190.72691702],\n",
       "       [203.9416997 ],\n",
       "       [185.39912857],\n",
       "       [192.35388448],\n",
       "       [201.9998685 ],\n",
       "       [206.34739367],\n",
       "       [178.37213032],\n",
       "       [196.8739873 ],\n",
       "       [220.87384833],\n",
       "       [220.36555283],\n",
       "       [231.94065378],\n",
       "       [205.51254676],\n",
       "       [199.38324121],\n",
       "       [221.94602244],\n",
       "       [203.44472683],\n",
       "       [208.2802364 ],\n",
       "       [204.85362305],\n",
       "       [216.81502917],\n",
       "       [197.04719454],\n",
       "       [197.67143667],\n",
       "       [209.55225333],\n",
       "       [206.75267078],\n",
       "       [182.65482987],\n",
       "       [220.52931069],\n",
       "       [193.96114785],\n",
       "       [221.30218452],\n",
       "       [190.69209967],\n",
       "       [201.78220158],\n",
       "       [176.97654329],\n",
       "       [202.66969896],\n",
       "       [215.64961599],\n",
       "       [195.66498633],\n",
       "       [217.99542856],\n",
       "       [205.60626662],\n",
       "       [197.71276356],\n",
       "       [172.07790932],\n",
       "       [190.05579937],\n",
       "       [206.20387211],\n",
       "       [201.07547557],\n",
       "       [186.33262429],\n",
       "       [214.37674052],\n",
       "       [205.07941602],\n",
       "       [213.16441278],\n",
       "       [212.41216273],\n",
       "       [207.6336121 ],\n",
       "       [200.10966212],\n",
       "       [217.74589979],\n",
       "       [210.0560089 ],\n",
       "       [223.46697043],\n",
       "       [203.46650062],\n",
       "       [236.10090401],\n",
       "       [192.4048255 ],\n",
       "       [201.58292803],\n",
       "       [210.00418299],\n",
       "       [200.84017744]])"
      ]
     },
     "execution_count": 12,
     "metadata": {},
     "output_type": "execute_result"
    }
   ],
   "source": [
    "np.sqrt(np.power((A-A.mean(axis = 0)),2).sum(axis = 1)).reshape(200,1)"
   ]
  },
  {
   "cell_type": "markdown",
   "metadata": {},
   "source": [
    "# Задание 2.12 (2 балла)\n",
    "\n",
    "Создайте новый массив, который состоит из элементов `A`, измененных по следующим правилам:\n",
    "- если элемент меньше $50$, то он умножается на $2$\n",
    "- в противном случае он умножается на $3$\n",
    "\n",
    "Используйте [np.where()](https://numpy.org/doc/stable/reference/generated/numpy.where.html)"
   ]
  },
  {
   "cell_type": "code",
   "execution_count": 13,
   "metadata": {},
   "outputs": [
    {
     "data": {
      "text/plain": [
       "array([[ 84,  18, 172, ..., 126, 162,  69],\n",
       "       [164,  54, 150, ..., 178, 114, 147],\n",
       "       [110,  84,  99, ..., 160,  87, 144],\n",
       "       ...,\n",
       "       [ 51,  96,  63, ..., 176, 150, 102],\n",
       "       [180,  96, 186, ...,  93, 132,  45],\n",
       "       [ 99, 184,  12, ..., 136, 105,  15]])"
      ]
     },
     "execution_count": 13,
     "metadata": {},
     "output_type": "execute_result"
    }
   ],
   "source": [
    "np.where(A>50, A*2, A*3)"
   ]
  },
  {
   "cell_type": "markdown",
   "metadata": {},
   "source": [
    "# Задание 2.13 (7 баллов)\n",
    "\n",
    "Разверните массив `A` в одномерный массив. Создайте три новых массива, подсчитав скользящие средние по окнам $3$, $5$, $10$. Найдите сумму этих массивов, выровнив из размерности нулями справа\n",
    "\n",
    "*Tip: реализуйте функцию, которая считает скользящее среднее. Используйте [np.cumsum()](https://numpy.org/doc/stable/reference/generated/numpy.cumsum.html) или [np.convolve()](https://numpy.org/doc/stable/reference/generated/numpy.convolve.html)*"
   ]
  },
  {
   "cell_type": "code",
   "execution_count": 14,
   "metadata": {},
   "outputs": [
    {
     "data": {
      "text/plain": [
       "array([17.73333333, 21.53333333, 76.        , ..., 10.8       ,\n",
       "        4.        ,  0.5       ])"
      ]
     },
     "execution_count": 14,
     "metadata": {},
     "output_type": "execute_result"
    }
   ],
   "source": [
    "convolve3 = np.convolve(np.array(A).ravel(),np.ones(3))/3\n",
    "convolve5 = np.convolve(np.array(A).ravel(),np.ones(5))/5\n",
    "convolve10 = np.convolve(np.array(A).ravel(),np.ones(10))/10\n",
    "\n",
    "max_len = max(len(convolve3), len(convolve5), len(convolve10))\n",
    "convolve3 = np.pad(convolve3, (0, max_len - len(convolve3)), mode='constant', constant_values=0)\n",
    "convolve5 = np.pad(convolve5, (0, max_len - len(convolve5)), mode='constant', constant_values=0)\n",
    "convolve10 = np.pad(convolve10, (0, max_len - len(convolve10)), mode='constant', constant_values=0)\n",
    "convolve3 + convolve5 + convolve10"
   ]
  },
  {
   "cell_type": "markdown",
   "metadata": {},
   "source": [
    "# Задание 2.14 (8 баллов)\n",
    "\n",
    "Постройте график функции $$f(x) = (5  \\sin(2x) - \\cos^2(x) - 1 + |x^3| - x^2) / (x^2 + 1)$$  \n",
    "\n",
    "и производной от этой функции.  Найдите минимум с помощью `scipy` и обозначьте его на графике. На этой же оси постройте графики скользящего среднего этой функции с окном $1$, $2$, $5$."
   ]
  },
  {
   "cell_type": "code",
   "execution_count": 15,
   "metadata": {},
   "outputs": [
    {
     "name": "stdout",
     "output_type": "stream",
     "text": [
      "Optimization terminated successfully.\n",
      "         Current function value: -4.882074\n",
      "         Iterations: 23\n",
      "         Function evaluations: 46\n"
     ]
    },
    {
     "data": {
      "text/plain": [
       "Text(0.5, 1.0, 'fd')"
      ]
     },
     "execution_count": 15,
     "metadata": {},
     "output_type": "execute_result"
    },
    {
     "data": {
      "image/png": "[encoded data removed]",
      "text/plain": [
       "<Figure size 640x480 with 2 Axes>"
      ]
     },
     "metadata": {},
     "output_type": "display_data"
    }
   ],
   "source": [
    "from scipy import optimize\n",
    "\n",
    "def func(x:np.ndarray)->np.ndarray:\n",
    "    return((5*np.sin(2*x)-np.power(np.cos(x),2)-1+np.abs(np.power(x,3))-np.power(x,2))/(np.power(x,2)+1))\n",
    "\n",
    "d = 0.0001\n",
    "step = 0.01\n",
    "x = np.linspace(-5,5,1000)\n",
    "fd = ((func(x + d) - func(x))/d)\n",
    "minf = optimize.fmin(func, 0)\n",
    "convolve1 = np.convolve(func(x),np.ones(np.int64(1/step)), mode='same')/(1/step)\n",
    "convolve2 = np.convolve(func(x),np.ones(np.int64(2/step)), mode='same')/(2/step)\n",
    "convolve5 = np.convolve(func(x),np.ones(np.int64(5/step)), mode='same')/(5/step)\n",
    "\n",
    "plt.subplot(1,2,1)\n",
    "plt.plot(x,func(x))\n",
    "plt.plot(minf,func(minf),marker = \"o\", markersize=10)\n",
    "plt.plot(x, convolve1, color = 'red')\n",
    "plt.plot(x, convolve2, color = 'green')\n",
    "plt.plot(x, convolve5, color = 'black')\n",
    "plt.legend(['func', 'func(minf)' ,'convolve1', 'convolve2', 'convolve5'])\n",
    "plt.title(\"func\")\n",
    "\n",
    "plt.subplot(1,2,2)\n",
    "plt.plot(x,fd)\n",
    "plt.title(\"fd\")"
   ]
  },
  {
   "cell_type": "markdown",
   "metadata": {},
   "source": [
    "# Задание 2.15 (10 баллов)\n",
    "\n",
    "Есть следующий алгоритм семплинирования, на вход функции подается вектор из целых положительных чисел и число семплов."
   ]
  },
  {
   "cell_type": "code",
   "execution_count": 16,
   "metadata": {},
   "outputs": [
    {
     "data": {
      "text/plain": [
       "[4, 0, 0, 4, 3]"
      ]
     },
     "execution_count": 16,
     "metadata": {},
     "output_type": "execute_result"
    }
   ],
   "source": [
    "from typing import List \n",
    "\n",
    "def sample(x: List[int], c: int) -> List[int]:\n",
    "    assert len(x) > 0\n",
    "    \n",
    "    s = np.sum(x)\n",
    "    res = []\n",
    "    for _ in range(c):\n",
    "        val = s * np.random.random()\n",
    "        cur, idx = 0, 0        \n",
    "        while cur + x[idx] <= val:\n",
    "            cur += x[idx]\n",
    "            idx += 1\n",
    "            \n",
    "        res.append(idx)\n",
    "    return res\n",
    "\n",
    "            \n",
    "sample([50, 3, 1, 7, 20], 5)   "
   ]
  },
  {
   "cell_type": "markdown",
   "metadata": {},
   "source": [
    "Реализуйте данный алгоритм более оптимальным способом на массивах `numpy`, без использования циклов. Проверьте корректность и идентичность алгоритмов семплирования с помощью статистических тестов."
   ]
  },
  {
   "cell_type": "code",
   "execution_count": 17,
   "metadata": {},
   "outputs": [
    {
     "data": {
      "text/plain": [
       "array([0, 0, 4, 4, 0], dtype=int64)"
      ]
     },
     "execution_count": 17,
     "metadata": {},
     "output_type": "execute_result"
    }
   ],
   "source": [
    "sample = ([50, 3, 1, 7, 20]) \n",
    "c = len(sample)\n",
    "s = np.cumsum(sample)\n",
    "randc = (np.random.random(c)*np.sum(sample)).reshape(c,1)\n",
    "rerandc = np.tile(randc,c).reshape(c,c)\n",
    "np.argmax(np.greater(s,rerandc),axis=1)"
   ]
  },
  {
   "cell_type": "markdown",
   "metadata": {},
   "source": [
    "# Задание 2.16 (5 баллов)\n",
    "\n",
    "Есть следующий алгоритм \"случайного блуждания\""
   ]
  },
  {
   "cell_type": "code",
   "execution_count": 18,
   "metadata": {},
   "outputs": [
    {
     "data": {
      "text/plain": [
       "1732"
      ]
     },
     "execution_count": 18,
     "metadata": {},
     "output_type": "execute_result"
    }
   ],
   "source": [
    "import random \n",
    "\n",
    "def walk(n: int):\n",
    "    cur_position = 0\n",
    "    for i in range(n):\n",
    "        cur_position += random.choice([-3, -1, 0, 2, 3])\n",
    "\n",
    "    return cur_position\n",
    "\n",
    "walk(10_000)"
   ]
  },
  {
   "cell_type": "markdown",
   "metadata": {},
   "source": [
    "Реализуйте более эффективную версию с помощью `numpy`, сравните производительность (используя, например, magic `timeit`). Воспользовавшись [kdeplot()](https://seaborn.pydata.org/generated/seaborn.kdeplot.html) или аналогами, постройте график распределения значений `walk(10_000)` на каком-то разумном числе запусков. "
   ]
  },
  {
   "cell_type": "code",
   "execution_count": 19,
   "metadata": {},
   "outputs": [
    {
     "name": "stdout",
     "output_type": "stream",
     "text": [
      "5.94 ms ± 279 µs per loop (mean ± std. dev. of 7 runs, 100 loops each)\n",
      "241 µs ± 26.8 µs per loop (mean ± std. dev. of 7 runs, 1000 loops each)\n"
     ]
    },
    {
     "data": {
      "image/png": "[encoded data removed]",
      "text/plain": [
       "<Figure size 640x480 with 1 Axes>"
      ]
     },
     "metadata": {},
     "output_type": "display_data"
    }
   ],
   "source": [
    "import random \n",
    "\n",
    "def walknp(n: int):\n",
    "    res = np.random.choice([-3, -1, 0, 2, 3],n).sum()\n",
    "    return res\n",
    "\n",
    "%timeit walk(10000)\n",
    "%timeit walknp(10000)\n",
    "\n",
    "def countwalknp(m: int):\n",
    "    count = []\n",
    "    for _ in range(m):\n",
    "        count.append(walknp(10000)) \n",
    "    return count  \n",
    "\n",
    "def countwalk(m: int):\n",
    "    count = []\n",
    "    for _ in range(m):\n",
    "        count.append(walk(10000)) \n",
    "    return count  \n",
    "\n",
    "countwalk(10000)\n",
    "countwalknp(10000)\n",
    "sns.kdeplot(countwalk(10000))\n",
    "sns.kdeplot(countwalknp(10000))\n",
    "plt.show()"
   ]
  },
  {
   "cell_type": "markdown",
   "metadata": {},
   "source": [
    "# Задание 2.17 (5 баллов)\n",
    "\n",
    "Имеется функция, которая проделывает достаточно странные манипуляции с массивом `numpy`"
   ]
  },
  {
   "cell_type": "code",
   "execution_count": 20,
   "metadata": {},
   "outputs": [
    {
     "data": {
      "text/plain": [
       "1.1269174527659223"
      ]
     },
     "execution_count": 20,
     "metadata": {},
     "output_type": "execute_result"
    }
   ],
   "source": [
    "import numpy.typing as npt\n",
    "\n",
    "def strange_conv(a: npt.NDArray[np.float64]) -> np.float64:\n",
    "    x = a.shape[0]\n",
    "    y = a.shape[1]\n",
    "\n",
    "    t = 1.\n",
    "    for y in range(y - 5):\n",
    "        for x in range(x - 3):\n",
    "            c = 1.5 * a[y+1, x+2] - a[y+5, x+3] * a[y, x] + 0.2 * a[y+4, x]\n",
    "            t = 0.2 * t + 0.8 * c\n",
    "\n",
    "    return t\n",
    "\n",
    "\n",
    "a = np.random.random((10000, 10000))\n",
    "strange_conv(a)\n"
   ]
  },
  {
   "cell_type": "markdown",
   "metadata": {},
   "source": [
    "Оптимизируйте данную функцию с помощью (2 на выбор):\n",
    "- [Numba](https://numba.pydata.org)\n",
    "- `Cython` (+5 баллов)\n",
    "- [Taichi](https://github.com/taichi-dev/taichi) (+5 баллов)\n",
    "- `Pythran `[[1]](https://pythran.readthedocs.io/en/latest/), [[2]](https://serge-sans-paille.github.io/pythran-stories/pythran-tutorial.html) (+2 балла)\n",
    "\n",
    "Сравните производительность."
   ]
  },
  {
   "cell_type": "code",
   "execution_count": 21,
   "metadata": {},
   "outputs": [
    {
     "name": "stdout",
     "output_type": "stream",
     "text": [
      "21 s ± 381 ms per loop (mean ± std. dev. of 7 runs, 1 loop each)\n",
      "25.5 ns ± 0.658 ns per loop (mean ± std. dev. of 7 runs, 10000000 loops each)\n"
     ]
    }
   ],
   "source": [
    "# Numba\n",
    "import numba\n",
    "from numba import jit\n",
    "strange_conv_nb = numba.jit(strange_conv)\n",
    "a = np.random.random((10000, 10000))\n",
    "%timeit strange_conv(a)\n",
    "%timeit strange_conv_nb"
   ]
  }
 ],
 "metadata": {
  "kernelspec": {
   "display_name": "Python 3 (ipykernel)",
   "language": "python",
   "name": "python3"
  },
  "language_info": {
   "codemirror_mode": {
    "name": "ipython",
    "version": 3
   },
   "file_extension": ".py",
   "mimetype": "text/x-python",
   "name": "python",
   "nbconvert_exporter": "python",
   "pygments_lexer": "ipython3",
   "version": "3.9.13"
  },
  "vscode": {
   "interpreter": {
    "hash": "916dbcbb3f70747c44a77c7bcd40155683ae19c65e1c03b4aa3499c5328201f1"
   }
  }
 },
 "nbformat": 4,
 "nbformat_minor": 2
}
